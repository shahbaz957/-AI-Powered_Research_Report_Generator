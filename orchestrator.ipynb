{
 "cells": [
  {
   "cell_type": "code",
   "execution_count": 27,
   "id": "3003c88f",
   "metadata": {},
   "outputs": [
    {
     "data": {
      "text/plain": [
       "AIMessage(content='Hello. How can I assist you today?', additional_kwargs={}, response_metadata={'token_usage': {'completion_tokens': 10, 'prompt_tokens': 36, 'total_tokens': 46, 'completion_time': 0.02288466, 'prompt_time': 0.00171455, 'queue_time': 0.015350534, 'total_time': 0.02459921}, 'model_name': 'llama-3.3-70b-versatile', 'system_fingerprint': 'fp_9a8b91ba77', 'service_tier': 'on_demand', 'finish_reason': 'stop', 'logprobs': None}, id='run--58ced832-3d4d-433d-9592-4ca5db85b4e5-0', usage_metadata={'input_tokens': 36, 'output_tokens': 10, 'total_tokens': 46})"
      ]
     },
     "execution_count": 27,
     "metadata": {},
     "output_type": "execute_result"
    }
   ],
   "source": [
    "from dotenv import load_dotenv \n",
    "import os \n",
    "from langchain_groq import ChatGroq\n",
    "load_dotenv()\n",
    "os.environ['GROQ_API_KEY'] = os.getenv(\"GROQ_API_KEY\")\n",
    "\n",
    "model = ChatGroq(model=\"llama-3.3-70b-versatile\")\n",
    "result = model.invoke(\"Hello\")\n",
    "result"
   ]
  },
  {
   "cell_type": "code",
   "execution_count": 28,
   "id": "0517ddb9",
   "metadata": {},
   "outputs": [],
   "source": [
    "from typing import Annotated, List\n",
    "import operator\n",
    "from typing_extensions import Literal\n",
    "from pydantic import BaseModel,Field\n",
    "from langchain_core.messages import HumanMessage,SystemMessage\n",
    "from typing_extensions import TypedDict"
   ]
  },
  {
   "cell_type": "code",
   "execution_count": 29,
   "id": "d8b815a2",
   "metadata": {},
   "outputs": [],
   "source": [
    "from pydantic import BaseModel , Field\n",
    "from typing_extensions import Literal , TypedDict\n",
    "from langchain_core.messages import HumanMessage , SystemMessage\n",
    "\n",
    "class Section(BaseModel):\n",
    "    title : str = Field(description=\"Title for this section of the report based on the text\")\n",
    "    desc : str = Field(description=\"Brief overview of the main topics and concepts of the section\")\n",
    "\n",
    "class Sections(BaseModel):\n",
    "    sections : list[Section] = Field(description=\"Sections of the report\")\n",
    "\n",
    "planner = model.with_structured_output(Sections)"
   ]
  },
  {
   "cell_type": "code",
   "execution_count": 30,
   "id": "6bf8c7e2",
   "metadata": {},
   "outputs": [],
   "source": [
    "sections = planner.invoke(\"Agentic Ai\")"
   ]
  },
  {
   "cell_type": "code",
   "execution_count": 31,
   "id": "3d746b76",
   "metadata": {},
   "outputs": [
    {
     "data": {
      "text/plain": [
       "Sections(sections=[Section(title='Introduction to Agentic AI', desc='Agentic AI is a type of artificial intelligence that enables machines to make decisions and act autonomously, based on their own goals and motivations.'), Section(title='Key Characteristics of Agentic AI', desc='Agentic AI systems are typically characterized by their ability to perceive their environment, reason about their goals and motivations, and take actions to achieve them.'), Section(title='Applications of Agentic AI', desc='Agentic AI has a wide range of potential applications, including robotics, autonomous vehicles, and smart homes.')])"
      ]
     },
     "execution_count": 31,
     "metadata": {},
     "output_type": "execute_result"
    }
   ],
   "source": [
    "sections"
   ]
  },
  {
   "cell_type": "code",
   "execution_count": 32,
   "id": "1f0d01c0",
   "metadata": {},
   "outputs": [],
   "source": [
    "from langgraph.constants import Send\n",
    "class State(TypedDict):\n",
    "    title : str\n",
    "    sections : list[Section]\n",
    "    completed_sections : Annotated[list , operator.add]\n",
    "    final_report : str\n",
    "\n",
    "class WorkerState(TypedDict):\n",
    "    section : Section \n",
    "    completed_sections : Annotated[list, operator.add]"
   ]
  },
  {
   "cell_type": "code",
   "execution_count": 33,
   "id": "6ef52136",
   "metadata": {},
   "outputs": [],
   "source": [
    "def orchestrator(state : State):\n",
    "    \"\"\"Orchestrator that generates the plan of the report\"\"\"\n",
    "\n",
    "    sections = planner.invoke([\n",
    "        SystemMessage(content=\"Generate sections plan of report based on the topic\"),\n",
    "        HumanMessage(content=f\"Here is the report Topic : {state['title']}\")\n",
    "    ])\n",
    "    return {\"sections\" : sections.sections}\n",
    "\n",
    "def llm_call(state : WorkerState):\n",
    "    \"\"\"Worker write the section of report\"\"\"\n",
    "    section = model.invoke([\n",
    "        SystemMessage(content=\"Write a report section following the provided name and description.  Write the report in professional researcher style. Include no preamble for each section. Use markdown formatting.\"),\n",
    "        HumanMessage(content=(f\"Here is the section name: {state['section'].title} and description: {state['section'].desc}\"))\n",
    "    ])\n",
    "    return {\"completed_sections\" : [section.content]}\n",
    "\n",
    "\n",
    "def assign_worker(state : State):\n",
    "    \"\"\"Assign LLM to each section of the report\"\"\"\n",
    "    return [Send(\"llm_call\", {\"section\": s}) for s in state[\"sections\"]]\n",
    "\n",
    "def synthesizer(state: State):\n",
    "    \"\"\"Synthesize full report from sections\"\"\"\n",
    "\n",
    "    # List of completed sections\n",
    "    completed_sections = state[\"completed_sections\"]\n",
    "\n",
    "    # Format completed section to str to use as context for final sections\n",
    "    completed_report_sections = \"\\n\\n---\\n\\n\".join(completed_sections)\n",
    "\n",
    "    return {\"final_report\": completed_report_sections}\n",
    "    "
   ]
  },
  {
   "cell_type": "markdown",
   "id": "0ca43648",
   "metadata": {},
   "source": [
    "## `Defining The Graph`"
   ]
  },
  {
   "cell_type": "code",
   "execution_count": 34,
   "id": "9cd8412c",
   "metadata": {},
   "outputs": [
    {
     "data": {
      "image/png": "[encoded data removed]",
      "text/plain": [
       "<IPython.core.display.Image object>"
      ]
     },
     "metadata": {},
     "output_type": "display_data"
    }
   ],
   "source": [
    "# Build workflow\n",
    "\n",
    "\n",
    "from langgraph.graph import StateGraph, START, END\n",
    "from IPython.display import Image, display\n",
    "orchestrator_worker_builder = StateGraph(State)\n",
    "\n",
    "# Add the nodes\n",
    "orchestrator_worker_builder.add_node(\"orchestrator\", orchestrator)\n",
    "orchestrator_worker_builder.add_node(\"llm_call\", llm_call)\n",
    "orchestrator_worker_builder.add_node(\"synthesizer\", synthesizer)\n",
    "\n",
    "# Add edges to connect nodes\n",
    "orchestrator_worker_builder.add_edge(START, \"orchestrator\")\n",
    "orchestrator_worker_builder.add_conditional_edges(\n",
    "    \"orchestrator\", assign_worker, [\"llm_call\"]\n",
    ")\n",
    "orchestrator_worker_builder.add_edge(\"llm_call\", \"synthesizer\")\n",
    "orchestrator_worker_builder.add_edge(\"synthesizer\", END)\n",
    "\n",
    "# Compile the workflow\n",
    "orchestrator_worker = orchestrator_worker_builder.compile()\n",
    "\n",
    "# Show the workflow\n",
    "display(Image(orchestrator_worker.get_graph().draw_mermaid_png()))"
   ]
  },
  {
   "cell_type": "code",
   "execution_count": 35,
   "id": "71570737",
   "metadata": {},
   "outputs": [
    {
     "data": {
      "text/markdown": [
       "### Introduction to Computer Vision\n",
       "Computer vision is a field of artificial intelligence that enables computers to interpret and understand visual information from the world. It involves the development of algorithms and statistical models that allow computers to process, analyze, and comprehend digital images and videos. The goal of computer vision is to replicate the human visual system, enabling computers to perceive, process, and respond to visual data in a manner similar to humans.\n",
       "\n",
       "#### History of Computer Vision\n",
       "The history of computer vision dates back to the 1960s, when the first computer vision systems were developed. These early systems were primarily focused on image processing and object recognition. In the 1970s and 1980s, computer vision research expanded to include topics such as edge detection, feature extraction, and object recognition. The 1990s saw the introduction of machine learning techniques, including neural networks, which significantly improved the accuracy and robustness of computer vision systems. Today, computer vision is a rapidly evolving field, with applications in areas such as robotics, healthcare, security, and autonomous vehicles.\n",
       "\n",
       "#### Applications of Computer Vision\n",
       "Computer vision has numerous applications across various industries, including:\n",
       "* **Image and Video Analysis**: Computer vision is used in image and video analysis for applications such as object detection, facial recognition, and sentiment analysis.\n",
       "* **Robotics and Autonomous Systems**: Computer vision is used in robotics and autonomous systems to enable robots and vehicles to perceive and respond to their environment.\n",
       "* **Healthcare**: Computer vision is used in healthcare for medical image analysis, disease diagnosis, and patient monitoring.\n",
       "* **Security and Surveillance**: Computer vision is used in security and surveillance systems to detect and recognize individuals, track objects, and monitor activity.\n",
       "* **Autonomous Vehicles**: Computer vision is used in autonomous vehicles to enable vehicles to perceive and respond to their environment, including detecting pedestrians, lanes, and obstacles.\n",
       "\n",
       "---\n",
       "\n",
       "### Fundamentals of Computer Vision\n",
       "#### Introduction to Image Formation\n",
       "Image formation is the process by which a 2D representation of a 3D scene is created. This is achieved through the use of cameras, which capture light reflected from objects in the scene. The resulting image is a projection of the 3D world onto a 2D plane, with the camera's sensor recording the intensity and color of the light at each point. Understanding image formation is crucial in computer vision, as it provides the foundation for subsequent processing and analysis.\n",
       "\n",
       "#### Feature Detection\n",
       "Feature detection is the process of identifying and extracting meaningful features from an image. These features can include edges, corners, lines, and shapes, which are used to describe the content of the image. Common feature detection algorithms include the Canny edge detector, the Harris corner detector, and the SIFT (Scale-Invariant Feature Transform) algorithm. Feature detection is a critical step in many computer vision applications, including object recognition, tracking, and scene understanding.\n",
       "\n",
       "#### Object Recognition\n",
       "Object recognition is the process of identifying and classifying objects within an image or scene. This involves using features extracted from the image to match against a database of known objects or to learn the patterns and characteristics of objects through machine learning algorithms. Object recognition is a fundamental problem in computer vision, with applications in areas such as robotics, surveillance, and autonomous vehicles. Techniques used in object recognition include template matching, feature-based recognition, and deep learning-based approaches such as convolutional neural networks (CNNs).\n",
       "\n",
       "#### Key Challenges and Limitations\n",
       "Despite significant advances in computer vision, there are still several key challenges and limitations to be addressed. These include:\n",
       "* **Variability in lighting and viewpoint**: Changes in lighting and viewpoint can significantly affect the appearance of objects, making recognition more difficult.\n",
       "* **Occlusion and clutter**: Objects may be partially or fully occluded by other objects, or may be surrounded by clutter, which can make recognition more challenging.\n",
       "* **Intra-class variation**: Objects within the same class can exhibit significant variation in appearance, making recognition more difficult.\n",
       "* **Scalability and efficiency**: Computer vision algorithms must be able to process large amounts of data efficiently, while also scaling to meet the needs of real-time applications.\n",
       "\n",
       "---\n",
       "\n",
       "### Computer Vision Techniques\n",
       "#### Introduction to Image Processing\n",
       "Image processing is a fundamental technique in computer vision, involving the manipulation and analysis of digital images to extract relevant information. This process typically begins with image acquisition, where images are obtained from various sources such as cameras, scanners, or other sensing devices. Subsequent steps include image preprocessing, which may involve operations like noise reduction, contrast enhancement, and image normalization to improve image quality and facilitate further analysis.\n",
       "\n",
       "#### Image Segmentation\n",
       "Image segmentation is a critical computer vision technique used to partition an image into its constituent parts or objects of interest. This process enables the separation of objects from the background and the identification of distinct regions within the image. Common image segmentation techniques include thresholding, edge detection, and region growing. Thresholding involves separating pixels based on their intensity values, while edge detection identifies boundaries between objects by detecting abrupt changes in intensity. Region growing, on the other hand, involves merging pixels or regions based on similarity criteria such as color or texture.\n",
       "\n",
       "#### Object Tracking\n",
       "Object tracking is another essential computer vision technique that involves monitoring the movement of objects across a sequence of images or video frames. This technique has numerous applications, including surveillance, robotics, and autonomous vehicles. Object tracking algorithms can be broadly categorized into two types: offline and online tracking. Offline tracking involves processing the entire video sequence at once, allowing for more complex computations but requiring the entire dataset to be available beforehand. Online tracking, in contrast, processes frames in real-time, making it more suitable for applications requiring immediate feedback.\n",
       "\n",
       "#### Feature Extraction and Description\n",
       "Feature extraction and description are crucial steps in computer vision that enable the representation of images or objects in a compact and meaningful form. Features can be based on various attributes such as color, texture, shape, or motion. Common feature descriptors include Scale-Invariant Feature Transform (SIFT), Speeded Up Robust Features (SURF), and Histogram of Oriented Gradients (HOG). These descriptors are designed to capture distinctive characteristics of objects or scenes, facilitating tasks such as object recognition, image matching, and content-based image retrieval.\n",
       "\n",
       "#### Deep Learning in Computer Vision\n",
       "The advent of deep learning has revolutionized the field of computer vision, offering unparalleled performance in a wide range of tasks including image classification, object detection, segmentation, and generation. Convolutional Neural Networks (CNNs), in particular, have become a cornerstone of computer vision, leveraging convolutional and pooling layers to extract hierarchical features from images. Other deep learning architectures such as Recurrent Neural Networks (RNNs) and Generative Adversarial Networks (GANs) have also found applications in computer vision, especially in areas like video analysis and image synthesis. The integration of deep learning with traditional computer vision techniques has opened up new avenues for research and development, promising to solve complex visual perception tasks with greater accuracy and efficiency.\n",
       "\n",
       "---\n",
       "\n",
       "### Deep Learning in Computer Vision\n",
       "Deep learning has revolutionized the field of computer vision, enabling state-of-the-art performance in various tasks such as image classification, object detection, segmentation, and generation. The key to this success lies in the ability of deep neural networks to learn complex, abstract representations of visual data.\n",
       "\n",
       "#### Deep Learning Architectures\n",
       "Several deep learning architectures have been proposed for computer vision tasks, including:\n",
       "* **Convolutional Neural Networks (CNNs)**: CNNs are the most widely used architecture for computer vision tasks, leveraging convolutional and pooling layers to extract features from images.\n",
       "* **Recurrent Neural Networks (RNNs)**: RNNs are used for tasks that involve sequential data, such as image captioning or video analysis.\n",
       "* **Generative Adversarial Networks (GANs)**: GANs consist of a generator and a discriminator, and are used for image generation, style transfer, and data augmentation.\n",
       "\n",
       "#### Applications of Deep Learning in Computer Vision\n",
       "Deep learning has numerous applications in computer vision, including:\n",
       "* **Image Classification**: Deep learning models have achieved state-of-the-art performance in image classification tasks, such as object recognition and scene understanding.\n",
       "* **Object Detection**: Deep learning-based object detection algorithms, such as YOLO and SSD, have improved the accuracy and efficiency of object detection tasks.\n",
       "* **Image Segmentation**: Deep learning models have been used for image segmentation tasks, such as semantic segmentation and instance segmentation.\n",
       "* **Image Generation**: Deep learning models, such as GANs and VAEs, have been used for image generation, style transfer, and data augmentation.\n",
       "\n",
       "#### Challenges and Future Directions\n",
       "Despite the significant progress made in deep learning for computer vision, there are still several challenges and future directions to be explored, including:\n",
       "* **Explainability and Interpretability**: Deep learning models are often difficult to interpret, making it challenging to understand their decision-making processes.\n",
       "* **Adversarial Robustness**: Deep learning models are vulnerable to adversarial attacks, which can compromise their performance and security.\n",
       "* **Domain Adaptation**: Deep learning models often require large amounts of labeled data, which can be challenging to obtain in certain domains or applications.\n",
       "\n",
       "---\n",
       "\n",
       "### Applications of Computer Vision\n",
       "Computer vision has numerous real-world applications that are transforming various industries. \n",
       "#### Surveillance\n",
       "The use of computer vision in surveillance systems enables the detection and recognition of objects, people, and activities, enhancing security and public safety. \n",
       "* Facial recognition technology is employed to identify individuals in crowds, aiding law enforcement agencies in crime prevention and investigation.\n",
       "* Object detection algorithms are used to monitor and track suspicious activities, such as intrusions or thefts.\n",
       "* Automated number plate recognition systems are used to track vehicle movements and enforce traffic regulations.\n",
       "\n",
       "#### Healthcare\n",
       "Computer vision is being increasingly used in healthcare to improve patient outcomes and streamline clinical workflows.\n",
       "* Medical image analysis is used to diagnose diseases, such as cancer, from images like X-rays, CT scans, and MRIs.\n",
       "* Computer vision-powered systems are used to track patient vital signs, monitor medication adherence, and detect falls.\n",
       "* Surgical robotics and navigation systems rely on computer vision to provide real-time feedback and guidance during surgical procedures.\n",
       "\n",
       "#### Autonomous Vehicles\n",
       "Computer vision plays a critical role in the development of autonomous vehicles, enabling them to perceive and respond to their environment.\n",
       "* Object detection and tracking algorithms are used to identify pedestrians, vehicles, and other obstacles on the road.\n",
       "* Lane detection and tracking systems help autonomous vehicles stay within their lane and navigate through intersections.\n",
       "* Scene understanding and segmentation algorithms enable autonomous vehicles to comprehend complex scenarios, such as construction zones or school zones, and adjust their behavior accordingly.\n",
       "\n",
       "These applications demonstrate the significant impact of computer vision on various aspects of our lives, from enhancing public safety to improving healthcare outcomes and transforming the transportation industry. As computer vision technology continues to evolve, we can expect to see even more innovative applications in the future.\n",
       "\n",
       "---\n",
       "\n",
       "### Challenges and Future Directions\n",
       "The field of computer vision has made significant progress in recent years, with advancements in deep learning techniques and the increasing availability of large datasets. However, several challenges remain to be addressed. \n",
       "#### Current Challenges\n",
       "* **Data Quality and Availability**: One of the major challenges in computer vision is the need for high-quality, diverse, and large-scale datasets. Many existing datasets are biased towards specific domains or scenarios, which can result in models that do not generalize well to new environments.\n",
       "* **Explainability and Interpretability**: As computer vision models become more complex, it is essential to develop techniques that provide insights into their decision-making processes. This is critical for applications where model interpretability is crucial, such as in healthcare or autonomous vehicles.\n",
       "* **Real-World Variability**: Computer vision models often struggle to generalize to real-world scenarios, where lighting conditions, occlusions, and other factors can significantly impact performance. Developing models that can adapt to these variations is an active area of research.\n",
       "#### Future Developments\n",
       "* **Multimodal Learning**: Future research is expected to focus on multimodal learning, where computer vision is integrated with other modalities, such as natural language processing or audio processing. This can enable more comprehensive understanding of complex scenes and events.\n",
       "* **Edge AI and Efficient Models**: As computer vision applications become more ubiquitous, there is a growing need for efficient models that can run on edge devices, such as smartphones or smart home devices. This requires developing models that are optimized for low computational resources and power consumption.\n",
       "* **Adversarial Robustness**: As computer vision models are deployed in increasingly critical applications, ensuring their robustness to adversarial attacks is essential. Future research will focus on developing models that can detect and defend against such attacks, ensuring the reliability and security of computer vision systems."
      ],
      "text/plain": [
       "<IPython.core.display.Markdown object>"
      ]
     },
     "execution_count": 35,
     "metadata": {},
     "output_type": "execute_result"
    }
   ],
   "source": [
    "state = orchestrator_worker.invoke({\"title\": \"Create a report on Computer Vision\"})\n",
    "\n",
    "from IPython.display import Markdown\n",
    "Markdown(state[\"final_report\"])"
   ]
  },
  {
   "cell_type": "code",
   "execution_count": null,
   "id": "73695a60",
   "metadata": {},
   "outputs": [],
   "source": []
  }
 ],
 "metadata": {
  "kernelspec": {
   "display_name": "Python 3",
   "language": "python",
   "name": "python3"
  },
  "language_info": {
   "codemirror_mode": {
    "name": "ipython",
    "version": 3
   },
   "file_extension": ".py",
   "mimetype": "text/x-python",
   "name": "python",
   "nbconvert_exporter": "python",
   "pygments_lexer": "ipython3",
   "version": "3.12.0"
  }
 },
 "nbformat": 4,
 "nbformat_minor": 5
}
